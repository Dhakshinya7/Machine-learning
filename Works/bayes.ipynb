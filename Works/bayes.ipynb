{
  "nbformat": 4,
  "nbformat_minor": 0,
  "metadata": {
    "colab": {
      "name": "ML Lab2.ipynb",
      "provenance": []
    },
    "kernelspec": {
      "name": "python3",
      "display_name": "Python 3"
    },
    "language_info": {
      "name": "python"
    }
  },
  "cells": [
    {
      "cell_type": "code",
      "source": [
        "import pandas as pd\n",
        "\n",
        "df = pd.read_csv('Diabetes_Dataset.csv')\n",
        "data = df.values\n",
        "print(data)"
      ],
      "metadata": {
        "colab": {
          "base_uri": "https://localhost:8080/"
        },
        "id": "dD3GKOUt_JZE",
        "outputId": "e8988103-8d91-4393-81e9-6adb90aa83ed"
      },
      "execution_count": null,
      "outputs": [
        {
          "output_type": "stream",
          "name": "stdout",
          "text": [
            "[[502 17975 'F' ... 0.5 24.0 'N']\n",
            " [735 34221 'M' ... 0.6 23.0 'N']\n",
            " [420 47975 'F' ... 0.5 24.0 'N']\n",
            " ...\n",
            " [669 87654 'M' ... 8.1 27.4 'Y ']\n",
            " [99 24004 'M' ... 14.0 40.5 'Y ']\n",
            " [248 24054 'M' ... 0.7 33.0 'Y ']]\n"
          ]
        }
      ]
    },
    {
      "cell_type": "code",
      "source": [
        "Xdf = df.query('Gender == \"M\" & AGE>=40 & TG<=1 & BMI>=25 & BMI<33')\n",
        "Ydf = df.query('Gender == \"F\" & HDL>=0.5 & HDL<0.9 &  LDL>=1.0 & LDL<=2.5 & VLDL>=0.5 & VLDL<=10.5')\n",
        "Zdf = df.query('Gender == \"M\" & AGE>=35 & AGE<=60 & Urea>=3.5 & HbA1c>5 ')\n"
      ],
      "metadata": {
        "id": "JyRIEl-J_OAt"
      },
      "execution_count": null,
      "outputs": []
    },
    {
      "cell_type": "code",
      "source": [
        "print(len(Xdf.index))\n",
        "print(len(Ydf.index))\n",
        "print(len(Zdf.index))"
      ],
      "metadata": {
        "colab": {
          "base_uri": "https://localhost:8080/"
        },
        "id": "13L9pvPIXaPj",
        "outputId": "42a381bd-10fd-4cd2-ab93-428e66203da5"
      },
      "execution_count": null,
      "outputs": [
        {
          "output_type": "stream",
          "name": "stdout",
          "text": [
            "26\n",
            "23\n",
            "359\n"
          ]
        }
      ]
    },
    {
      "cell_type": "code",
      "source": [
        "#Probability for Query X for Class P\n",
        "x_p=Xdf.query('CLASS==\"P\"')\n",
        "x_p.size/Xdf.size"
      ],
      "metadata": {
        "id": "g9PSMWGE_XTv",
        "colab": {
          "base_uri": "https://localhost:8080/"
        },
        "outputId": "2c04142e-d07e-466e-9b54-1260859f1010"
      },
      "execution_count": null,
      "outputs": [
        {
          "output_type": "execute_result",
          "data": {
            "text/plain": [
              "0.07692307692307693"
            ]
          },
          "metadata": {},
          "execution_count": 13
        }
      ]
    },
    {
      "cell_type": "code",
      "source": [
        "#Probability for Query X for Class N\n",
        "x_n=Xdf.query('CLASS==\"N\"')\n",
        "x_n.size/Xdf.size"
      ],
      "metadata": {
        "colab": {
          "base_uri": "https://localhost:8080/"
        },
        "id": "95EYtnFsCFPp",
        "outputId": "3dc06f90-4cb5-425b-97a7-ac05b685e95d"
      },
      "execution_count": null,
      "outputs": [
        {
          "output_type": "execute_result",
          "data": {
            "text/plain": [
              "0.0"
            ]
          },
          "metadata": {},
          "execution_count": 14
        }
      ]
    },
    {
      "cell_type": "code",
      "source": [
        "#Probability for Query X for Class Y\n",
        "x_y=Xdf.query('CLASS==\"Y\"')\n",
        "x_y.size/Xdf.size"
      ],
      "metadata": {
        "colab": {
          "base_uri": "https://localhost:8080/"
        },
        "id": "emh4wCWuCSTI",
        "outputId": "665cd039-1faf-4215-a1e3-d5099932315f"
      },
      "execution_count": null,
      "outputs": [
        {
          "output_type": "execute_result",
          "data": {
            "text/plain": [
              "0.9230769230769231"
            ]
          },
          "metadata": {},
          "execution_count": 15
        }
      ]
    },
    {
      "cell_type": "code",
      "source": [
        "#Probability for Query Y for Class P\n",
        "y_p=Ydf.query('CLASS==\"P\"')\n",
        "y_p.size/Ydf.size"
      ],
      "metadata": {
        "colab": {
          "base_uri": "https://localhost:8080/"
        },
        "id": "J-KwX8OmBnf4",
        "outputId": "6b2a4c7a-7fe4-4295-e330-515a2346d7eb"
      },
      "execution_count": null,
      "outputs": [
        {
          "output_type": "execute_result",
          "data": {
            "text/plain": [
              "0.13043478260869565"
            ]
          },
          "metadata": {},
          "execution_count": 16
        }
      ]
    },
    {
      "cell_type": "code",
      "source": [
        "#Probability for Query Y for Class N\n",
        "y_n=Ydf.query('CLASS==\"N\"')\n",
        "y_n.size/Ydf.size"
      ],
      "metadata": {
        "colab": {
          "base_uri": "https://localhost:8080/"
        },
        "id": "51Lf2zSFCd2p",
        "outputId": "fb889af8-7af5-49ad-869f-d647fa51328d"
      },
      "execution_count": null,
      "outputs": [
        {
          "output_type": "execute_result",
          "data": {
            "text/plain": [
              "0.17391304347826086"
            ]
          },
          "metadata": {},
          "execution_count": 17
        }
      ]
    },
    {
      "cell_type": "code",
      "source": [
        "#Probability for Query Y for Class Y\n",
        "y_y=Ydf.query('CLASS==\"Y\"')\n",
        "y_y.size/Ydf.size"
      ],
      "metadata": {
        "colab": {
          "base_uri": "https://localhost:8080/"
        },
        "id": "lr0Pq_UJCduR",
        "outputId": "d8010864-80cb-4106-c36d-915890f1408e"
      },
      "execution_count": null,
      "outputs": [
        {
          "output_type": "execute_result",
          "data": {
            "text/plain": [
              "0.6956521739130435"
            ]
          },
          "metadata": {},
          "execution_count": 18
        }
      ]
    },
    {
      "cell_type": "code",
      "source": [
        "#Probability for Query Z for Class P\n",
        "z_p=Zdf.query('CLASS==\"P\"')\n",
        "z_p.size/Zdf.size"
      ],
      "metadata": {
        "colab": {
          "base_uri": "https://localhost:8080/"
        },
        "id": "2mvVLtILBwaW",
        "outputId": "954c1300-6adb-4a32-cb31-dca23c8ba285"
      },
      "execution_count": null,
      "outputs": [
        {
          "output_type": "execute_result",
          "data": {
            "text/plain": [
              "0.06963788300835655"
            ]
          },
          "metadata": {},
          "execution_count": 10
        }
      ]
    },
    {
      "cell_type": "code",
      "source": [
        "#Probability for Query Z for Class N\n",
        "z_n=Zdf.query('CLASS==\"N\"')\n",
        "z_n.size/Zdf.size"
      ],
      "metadata": {
        "colab": {
          "base_uri": "https://localhost:8080/"
        },
        "id": "m401Gnv7C2QV",
        "outputId": "85f7b427-0b44-4fbb-8c97-3aadb5cc3b7e"
      },
      "execution_count": null,
      "outputs": [
        {
          "output_type": "execute_result",
          "data": {
            "text/plain": [
              "0.016713091922005572"
            ]
          },
          "metadata": {},
          "execution_count": 11
        }
      ]
    },
    {
      "cell_type": "code",
      "source": [
        "#Probability for Query Z for Class Y\n",
        "z_y=Zdf.query('CLASS==\"Y\"')\n",
        "z_y.size/Zdf.size"
      ],
      "metadata": {
        "colab": {
          "base_uri": "https://localhost:8080/"
        },
        "id": "ASzwcoafC2Ji",
        "outputId": "6bd269aa-46a1-4e1e-cc1e-026735a1310e"
      },
      "execution_count": null,
      "outputs": [
        {
          "output_type": "execute_result",
          "data": {
            "text/plain": [
              "0.9052924791086351"
            ]
          },
          "metadata": {},
          "execution_count": 12
        }
      ]
    },
    {
      "cell_type": "code",
      "source": [
        "print(len(y_p.index))\n",
        "print(len(y_n.index))\n",
        "print(len(y_y.index))\n",
        "print(len(z_p.index))\n",
        "print(len(z_n.index))\n",
        "print(len(z_y.index))\n"
      ],
      "metadata": {
        "colab": {
          "base_uri": "https://localhost:8080/"
        },
        "id": "QCpfckmlYN7_",
        "outputId": "ecad53d1-12ae-4ee3-847b-7b9ddc8ee626"
      },
      "execution_count": null,
      "outputs": [
        {
          "output_type": "stream",
          "name": "stdout",
          "text": [
            "3\n",
            "4\n",
            "16\n",
            "25\n",
            "6\n",
            "325\n"
          ]
        }
      ]
    },
    {
      "cell_type": "code",
      "source": [
        "len(df.index)"
      ],
      "metadata": {
        "colab": {
          "base_uri": "https://localhost:8080/"
        },
        "id": "hORDzboJYka7",
        "outputId": "d3402d4d-ffb3-4ca5-fe65-59096e006025"
      },
      "execution_count": null,
      "outputs": [
        {
          "output_type": "execute_result",
          "data": {
            "text/plain": [
              "1000"
            ]
          },
          "metadata": {},
          "execution_count": 22
        }
      ]
    }
  ]
}