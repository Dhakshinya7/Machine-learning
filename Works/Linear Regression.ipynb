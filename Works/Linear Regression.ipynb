{
 "cells": [
  {
   "cell_type": "code",
   "execution_count": 12,
   "id": "5a93f46c",
   "metadata": {},
   "outputs": [],
   "source": [
    "import pandas as pd\n",
    "import numpy as np\n",
    "import matplotlib.pyplot as plt\n",
    "import seaborn as sns\n",
    "%matplotlib inline"
   ]
  },
  {
   "cell_type": "code",
   "execution_count": 15,
   "id": "20126e6a",
   "metadata": {},
   "outputs": [],
   "source": [
    "raw_data = pd.read_csv('Houseprices.csv')\n",
    "x = raw_data[['MSSubClass', 'LotArea', 'YearBuilt',\n",
    "       'BsmtFinSF1', 'YrSold']]\n",
    "y = raw_data['SalePrice']"
   ]
  },
  {
   "cell_type": "code",
   "execution_count": 16,
   "id": "8501113e",
   "metadata": {},
   "outputs": [],
   "source": [
    "from sklearn.model_selection import train_test_split\n",
    "x_train, x_test, y_train, y_test = train_test_split(x, y, test_size = 0.3)\n"
   ]
  },
  {
   "cell_type": "code",
   "execution_count": 17,
   "id": "9663b482",
   "metadata": {},
   "outputs": [
    {
     "name": "stdout",
     "output_type": "stream",
     "text": [
      "[-117.07460122    2.28549206 1252.63491667   35.62326886 -692.79530015]\n",
      "-929636.2926303204\n"
     ]
    }
   ],
   "source": [
    "from sklearn.linear_model import LinearRegression\n",
    "\n",
    "model = LinearRegression()\n",
    "model.fit(x_train, y_train)\n",
    "print(model.coef_)\n",
    "print(model.intercept_)"
   ]
  },
  {
   "cell_type": "code",
   "execution_count": 18,
   "id": "76b33a71",
   "metadata": {},
   "outputs": [
    {
     "data": {
      "text/html": [
       "<div>\n",
       "<style scoped>\n",
       "    .dataframe tbody tr th:only-of-type {\n",
       "        vertical-align: middle;\n",
       "    }\n",
       "\n",
       "    .dataframe tbody tr th {\n",
       "        vertical-align: top;\n",
       "    }\n",
       "\n",
       "    .dataframe thead th {\n",
       "        text-align: right;\n",
       "    }\n",
       "</style>\n",
       "<table border=\"1\" class=\"dataframe\">\n",
       "  <thead>\n",
       "    <tr style=\"text-align: right;\">\n",
       "      <th></th>\n",
       "      <th>Coeff</th>\n",
       "    </tr>\n",
       "  </thead>\n",
       "  <tbody>\n",
       "    <tr>\n",
       "      <th>MSSubClass</th>\n",
       "      <td>-117.074601</td>\n",
       "    </tr>\n",
       "    <tr>\n",
       "      <th>LotArea</th>\n",
       "      <td>2.285492</td>\n",
       "    </tr>\n",
       "    <tr>\n",
       "      <th>YearBuilt</th>\n",
       "      <td>1252.634917</td>\n",
       "    </tr>\n",
       "    <tr>\n",
       "      <th>BsmtFinSF1</th>\n",
       "      <td>35.623269</td>\n",
       "    </tr>\n",
       "    <tr>\n",
       "      <th>YrSold</th>\n",
       "      <td>-692.795300</td>\n",
       "    </tr>\n",
       "  </tbody>\n",
       "</table>\n",
       "</div>"
      ],
      "text/plain": [
       "                  Coeff\n",
       "MSSubClass  -117.074601\n",
       "LotArea        2.285492\n",
       "YearBuilt   1252.634917\n",
       "BsmtFinSF1    35.623269\n",
       "YrSold      -692.795300"
      ]
     },
     "execution_count": 18,
     "metadata": {},
     "output_type": "execute_result"
    }
   ],
   "source": [
    "pd.DataFrame(model.coef_, x.columns, columns = ['Coeff'])\n"
   ]
  },
  {
   "cell_type": "code",
   "execution_count": 19,
   "id": "a2366e20",
   "metadata": {},
   "outputs": [],
   "source": [
    "predictions = model.predict(x_test)"
   ]
  },
  {
   "cell_type": "code",
   "execution_count": 20,
   "id": "3f84586d",
   "metadata": {},
   "outputs": [
    {
     "data": {
      "text/plain": [
       "array([251952.66445301, 229017.51214658, 131476.12338188, 201967.69944782,\n",
       "       124387.4353787 , 160160.64489043, 155698.50385365, 173341.01848154,\n",
       "       215613.04932133, 149442.86955934, 197074.75215434, 224418.05155863,\n",
       "       218261.40890163, 153034.04336768, 179789.59442751, 211818.54076068,\n",
       "       163503.02939855, 196021.37983082, 213628.0431842 , 214172.42313267,\n",
       "        93811.99906408, 194112.59860935, 182493.61779343, 134090.95152535,\n",
       "       183864.41318478, 105715.0003703 , 285943.33372196,  84304.66815138,\n",
       "       172707.6773875 , 108885.42772292, 211878.17753651, 143718.72793301,\n",
       "       190595.11165252,  78857.30917474, 190468.38132964, 110519.9944724 ,\n",
       "       184578.44726059, 194586.9566741 , 217613.13675002, 207965.83543649,\n",
       "       339116.70113145, 209037.97054245, 164984.84234013, 198717.66712372,\n",
       "       232742.07068136, 115851.46591475, 121215.87549601, 176269.89261142,\n",
       "       196405.08454725, 177774.51243443, 272182.10692481, 158194.51927022,\n",
       "       190407.2654411 , 131765.17540252, 273901.42401083, 209350.42121248,\n",
       "       203248.72997594, 190565.05066311, 210699.71851069, 203793.44951988,\n",
       "       163331.25504655, 178328.02141698, 105387.31805652, 240079.15557859,\n",
       "        97719.38625853, 283530.97154535, 176172.09832801, 134962.03388438,\n",
       "       259163.95913301, 208514.21737786, 198756.3385678 , 178697.73065079,\n",
       "       229479.33343164, 187615.57862505, 139706.88193415, 150831.43368856,\n",
       "       162373.74294641, 157863.75426311, 228420.93941647, 206759.3890162 ,\n",
       "       201002.70842124, 197422.17355554, 118966.00522848, 199910.22927031,\n",
       "        96975.78422489,  94447.9481266 , 197277.94656861, 227638.79320927,\n",
       "       267237.8885106 , 203764.49246909, 203507.22473209, 109543.02751794,\n",
       "       194716.74242875, 257662.08013904, 673595.16727832, 233400.4598108 ,\n",
       "       185549.69445097, 210253.19057602, 209786.65939935, 185496.16830426,\n",
       "       158668.56566273, 209495.9271834 , 247155.10121521, 135219.32202188,\n",
       "       163246.85798659, 225518.63799462, 167929.36677584, 171876.40931438,\n",
       "       220286.34579958, 201913.90188651, 176355.97970038, 217039.38312361,\n",
       "       204577.79395734, 150552.56798958, 204891.5331832 , 218935.03986203,\n",
       "       271703.01543054, 196150.32581056, 177388.21616357, 275088.6657331 ,\n",
       "       184344.52692975, 180078.13471728,  97825.40157113, 209332.21660594,\n",
       "       140558.22621065, 168349.15590762, 167152.22032136, 182203.96911882,\n",
       "       161539.01116766, 167239.18082967,  86201.73249891, 189284.10339955,\n",
       "       191719.5967611 , 107332.74827334, 212473.80540722, 219751.5278245 ,\n",
       "       210246.25631886, 212196.33530078, 176734.36911412, 169556.51180711,\n",
       "       199181.1960169 , 115256.27509193, 198974.94295639, 197727.92640927,\n",
       "       235195.02817437, 197579.68723963,  93495.8858164 , 161504.34953799,\n",
       "       187517.09120481, 187804.13761151, 147903.39713657, 203247.37744238,\n",
       "       126637.05608589, 153048.78411917, 162307.938652  , 234397.17356042,\n",
       "       176752.59326884, 160649.26498986, 235166.73612858, 150437.33815431,\n",
       "       106024.13324356, 212006.46521791, 211042.95646997, 110958.45227843,\n",
       "       216979.94951143, 169691.41112676, 244802.02315757, 150730.06869002,\n",
       "       233736.15698708, 181534.18275434, 224083.89490943, 211029.19898998,\n",
       "       210407.17178244, 209419.9550783 , 203078.6338568 , 174054.98052245,\n",
       "        94089.31040397, 233372.65742347, 162320.05336816, 182369.61052856,\n",
       "       116861.41331621,  65770.91180309, 182080.22119523, 230113.55635095,\n",
       "       204244.85306106, 154534.80015906, 200667.83687811, 230595.98639707,\n",
       "       219471.84878316, 176676.38727951, 216827.105719  , 220852.75569551,\n",
       "       139586.8539721 , 127293.63763318, 146750.65647824, 200617.84725889,\n",
       "       104104.1950033 , 183955.05107045, 197530.420419  , 174247.33211719,\n",
       "       204934.15091994, 124367.61288924, 184557.20848493, 258941.63943599,\n",
       "       118162.77129713, 214766.99254598, 212813.87799575, 161479.65227593,\n",
       "       260166.65601318, 224849.68585499, 193623.45311861, 240547.03718963,\n",
       "       181668.13430363, 201443.49353584, 190005.59767251, 220381.17989397,\n",
       "       267970.70934173, 146988.95133748,  47944.18506317, 127757.9919135 ,\n",
       "       359080.44791155,  99977.42542021, 214201.88491372, 194877.28079523,\n",
       "       239755.08723358,  97302.89750777, 217693.41523129, 174812.48956779,\n",
       "       137380.87317912, 211202.72403814, 150306.47020351, 132390.26543592,\n",
       "        84636.44497516, 180363.80790739, 178884.25818211, 194300.72388579,\n",
       "       244765.56658589, 194238.32896686, 171129.64314577, 226687.32908583,\n",
       "       130505.19028703, 453122.35861162, 214196.3786816 , 111180.11496702,\n",
       "       173505.81212423, 220770.96823281, 178261.81739083, 208603.7361107 ,\n",
       "       179905.85577359, 236165.65011035, 198490.64562318, 138250.8321787 ,\n",
       "       222400.20679937, 111620.00450332, 214440.84972696, 172775.4566172 ,\n",
       "       213455.51969803, 245992.10983312, 179064.68332076, 228181.36463106,\n",
       "        66196.40718261, 245551.71986253, 138500.17174892, 193679.27799032,\n",
       "       122309.19371766, 231443.65857855, 206138.74946481, 201375.90553022,\n",
       "       178341.22748952,  96550.75874401, 176516.78342401, 208783.25033687,\n",
       "       209664.2061854 , 134439.84263986, 192541.33969223, 214456.19468409,\n",
       "       152127.20920326, 207516.02891741, 137894.30516883, 180685.27175066,\n",
       "       184246.62120612, 250866.92748217, 203988.02170669,  99405.44514404,\n",
       "       225710.5827878 , 182773.99961696,  74606.51614687, 107522.62221161,\n",
       "       156028.28915012, 258934.39872263, 219938.16379495, 150853.73928901,\n",
       "       196047.58720553, 162609.95118378, 209922.36085006, 239744.11249948,\n",
       "       215661.41452573, 185085.58900125, 116281.70191983, 195118.95419977,\n",
       "       149298.29007566, 210896.26085491, 200367.39999088, 172883.81105944,\n",
       "       135956.31753638, 111442.53530334, 225561.904139  , 514951.63261962,\n",
       "       199066.74828208, 207774.76677212, 220393.26272588, 129142.26398338,\n",
       "       223537.31743648, 162143.13123707, 176589.06318639, 240181.64589759,\n",
       "       135632.25844087, 170291.71090523, 166832.55249864, 125842.23068142,\n",
       "       146442.67974073, 162398.59282297, 256647.86785724, 140237.43673727,\n",
       "       172531.28551951, 247201.73609588, 227236.3406364 , 166232.52012287,\n",
       "       230519.56962313, 179032.84331639, 208528.65916491, 194433.37011304,\n",
       "       148559.48764241, 229662.34309677, 156363.25081285, 190378.3351312 ,\n",
       "       208518.78497437, 194752.70982322, 214721.89417519, 176961.60956761,\n",
       "       208850.6395235 , 145214.4745553 , 184777.81638792, 174474.51484858,\n",
       "       239034.61972825, 149802.53690485, 205548.78511773, 178413.09418672,\n",
       "       194881.37923544, 109230.22950796, 204159.95998113, 203646.75337733,\n",
       "       209187.78327714, 139068.06432172, 221980.89734391, 183144.57979996,\n",
       "       282048.56448169, 182937.81367745, 148873.8786016 , 190309.07385846,\n",
       "       199323.60534569, 221960.6200811 , 216117.69468961, 195366.56324574,\n",
       "       118328.8500383 , 180637.46191004, 207828.65403683, 185556.55092715,\n",
       "       162806.48892826, 218131.81090133,  79912.94102879, 171445.74618438,\n",
       "       240953.78410818, 169042.30234994, 136305.40196187, 205109.10375394,\n",
       "       178525.54407145, 103422.72122537, 182472.4825468 , 185720.99807332,\n",
       "       221824.22359318, 148950.41144767, 230146.84999512, 181193.92653095,\n",
       "       191119.34667378, 216486.29404519, 214735.1040453 , 183129.88576867,\n",
       "        71536.96776463, 199846.68348659, 186188.78141589, 233904.86751673,\n",
       "       108638.40931247, 198256.9099366 , 217595.54022903, 239377.33624532,\n",
       "       188785.22879199, 108919.1401934 ,  72542.18964165, 209135.37011454,\n",
       "       185818.6148338 ,  89244.8745562 , 187484.50587068, 106401.61043571,\n",
       "       217118.97334926, 260976.44657658, 203516.90334682, 216740.16893183,\n",
       "       157126.98938723, 222056.31858187, 166245.20563066, 181496.76652439,\n",
       "        91869.11893728, 216140.68253684, 184286.58400459, 103929.53863482,\n",
       "       133909.88918759, 111838.5219482 , 243663.1077237 ,  35176.48340919,\n",
       "       133945.6233412 , 204947.1250238 , 186054.75706832, 199709.44802493,\n",
       "        97876.13091327, 122291.38514687, 205183.65822172, 138190.0380412 ,\n",
       "       201985.9306625 , 204899.68461508,  52036.62772361, 197665.22327227,\n",
       "       183868.78774028, 204569.64829793, 198708.44394876, 150546.84531538,\n",
       "       225000.03164836, 243807.79376462])"
      ]
     },
     "execution_count": 20,
     "metadata": {},
     "output_type": "execute_result"
    }
   ],
   "source": [
    "predictions"
   ]
  },
  {
   "cell_type": "code",
   "execution_count": 21,
   "id": "0e3654b4",
   "metadata": {},
   "outputs": [
    {
     "data": {
      "text/plain": [
       "(array([  2.,   2.,  28., 287.,  92.,  20.,   4.,   1.,   0.,   2.]),\n",
       " array([-298595.16727832, -220405.95209354, -142216.73690876,\n",
       "         -64027.52172398,   14161.69346079,   92350.90864557,\n",
       "         170540.12383035,  248729.33901513,  326918.55419991,\n",
       "         405107.76938468,  483296.98456946]),\n",
       " <BarContainer object of 10 artists>)"
      ]
     },
     "execution_count": 21,
     "metadata": {},
     "output_type": "execute_result"
    },
    {
     "data": {
      "image/png": "[encoded data removed]",
      "text/plain": [
       "<Figure size 432x288 with 1 Axes>"
      ]
     },
     "metadata": {
      "needs_background": "light"
     },
     "output_type": "display_data"
    }
   ],
   "source": [
    "# plt.scatter(y_test, predictions)\n",
    "plt.hist(y_test - predictions)\n"
   ]
  },
  {
   "cell_type": "code",
   "execution_count": 22,
   "id": "9f87e194",
   "metadata": {},
   "outputs": [],
   "source": [
    "from sklearn import metrics"
   ]
  },
  {
   "cell_type": "code",
   "execution_count": 23,
   "id": "1c59b798",
   "metadata": {},
   "outputs": [
    {
     "data": {
      "text/plain": [
       "64074.72284195945"
      ]
     },
     "execution_count": 23,
     "metadata": {},
     "output_type": "execute_result"
    }
   ],
   "source": [
    "metrics.mean_absolute_error(y_test, predictions)\n",
    "\n",
    "metrics.mean_squared_error(y_test, predictions)\n",
    "\n",
    "np.sqrt(metrics.mean_squared_error(y_test, predictions))"
   ]
  }
 ],
 "metadata": {
  "kernelspec": {
   "display_name": "Python 3 (ipykernel)",
   "language": "python",
   "name": "python3"
  },
  "language_info": {
   "codemirror_mode": {
    "name": "ipython",
    "version": 3
   },
   "file_extension": ".py",
   "mimetype": "text/x-python",
   "name": "python",
   "nbconvert_exporter": "python",
   "pygments_lexer": "ipython3",
   "version": "3.10.1"
  }
 },
 "nbformat": 4,
 "nbformat_minor": 5
}
